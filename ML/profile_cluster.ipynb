{
 "cells": [
  {
   "cell_type": "code",
   "execution_count": null,
   "source": [
    "# Libraries\r\n",
    "import pandas as pd\r\n",
    "pd.set_option('display.max_colwidth', 500)\r\n",
    "import pickle as pickle\r\n",
    "\r\n",
    "df = pd.read_csv('csv_files/Atlas_test_data_raw.csv')\r\n",
    "df.head()"
   ],
   "outputs": [],
   "metadata": {}
  },
  {
   "cell_type": "code",
   "execution_count": null,
   "source": [
    "pickle_file = open(\"pkl_files/userProfile.pkl\", \"wb\")\r\n",
    "pickle.dump(df, pickle_file)"
   ],
   "outputs": [],
   "metadata": {}
  },
  {
   "cell_type": "code",
   "execution_count": null,
   "source": [
    "unpickle_file = open(\"pkl_files/userProfile.pkl\", \"rb\")\r\n",
    "pickle.load(unpickle_file)"
   ],
   "outputs": [],
   "metadata": {}
  }
 ],
 "metadata": {
  "orig_nbformat": 4,
  "language_info": {
   "name": "python",
   "version": "3.9.7",
   "mimetype": "text/x-python",
   "codemirror_mode": {
    "name": "ipython",
    "version": 3
   },
   "pygments_lexer": "ipython3",
   "nbconvert_exporter": "python",
   "file_extension": ".py"
  },
  "kernelspec": {
   "name": "python3",
   "display_name": "Python 3.9.7 64-bit (windows store)"
  },
  "interpreter": {
   "hash": "111ee1e6c96c755d4829a8a7fd2c3ebf5d707e63c33323f13a8b70d69936d9fa"
  }
 },
 "nbformat": 4,
 "nbformat_minor": 2
}